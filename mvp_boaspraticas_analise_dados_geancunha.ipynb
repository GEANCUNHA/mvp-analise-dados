{
  "nbformat": 4,
  "nbformat_minor": 0,
  "metadata": {
    "colab": {
      "provenance": []
    },
    "kernelspec": {
      "name": "python3",
      "display_name": "Python 3"
    },
    "language_info": {
      "name": "python"
    }
  },
  "cells": [
    {
      "cell_type": "markdown",
      "source": [],
      "metadata": {
        "id": "C1bebbEGjSXj"
      }
    },
    {
      "cell_type": "markdown",
      "source": [
        "# Análise de Locações Publicitárias em Lojas da Bemol\n",
        "\n",
        "## 1. Definição do Problema\n",
        "\n",
        "A empresa realiza a locação de espaços publicitários em suas lojas físicas, permitindo que marcas exponham produtos em locais de destaque, como pontas de gôndola, displays e clipstrips. Essas locações precisam ser monitoradas, validadas e comprovadas.\n",
        "\n",
        "O objetivo da análise é entender o comportamento das locações, valores praticados, segmentações por loja, tipos de espaços mais utilizados e padrões de uso — com foco na melhoria do processo de alocação e tomada de decisão para campanhas futuras.\n",
        "\n",
        "---\n",
        "\n",
        "### Este é um problema de aprendizado supervisionado ou não supervisionado?\n",
        "\n",
        "Este trabalho não aborda diretamente um problema de aprendizado supervisionado ou não supervisionado, pois se trata de uma análise exploratória e preparação de dados. Entretanto, os dados podem futuramente ser usados em tarefas supervisionadas (como classificação de efetividade de locações) ou não supervisionadas (como agrupamentos por tipo de espaço ou loja).\n",
        "\n",
        "---\n",
        "\n",
        "### Hipóteses e Premissas\n",
        "\n",
        "- Determinados tipos de espaços (como pontas de gôndola) podem ter maior valor de locação.\n",
        "- O preço médio dos espaços pode variar de uma loja para outra.\n",
        "- Itens mais locados podem estar associados a preços mais altos.\n",
        "- Pode haver grande diferença no valor total locado entre diferentes lojas.\n",
        "\n",
        "---\n",
        "\n",
        "### Restrições de seleção dos dados\n",
        "\n",
        "A base de dados foi retirada do sistema interno da empresa e anonimizada. Foram removidos dados sensíveis como nomes de usuários responsáveis. A análise será limitada aos campos disponíveis no dataset original, considerando apenas registros que representam locações de espaços em loja com os dados principais de período, loja, fornecedor e valor de locação.\n",
        "\n",
        "---\n",
        "\n",
        "### Descrição dos Atributos\n",
        "\n",
        "| Atributo           | Descrição |\n",
        "|--------------------|-----------|\n",
        "| `TipoComprovacao`  | Tipo do registro (ex: Locação) |\n",
        "| `Segmento`         | Segmento da loja (ex: Varejo, Farma) |\n",
        "| `IdLocacao`        | Identificador único da locação |\n",
        "| `Espaco`           | Tipo de espaço locado (ex: Display, Prateleira) |\n",
        "| `Loja`             | Nome da loja onde a locação ocorreu |\n",
        "| `Setor`            | Setor da loja (ex: Eletrônicos, LG, Checkout) |\n",
        "| `Descricao`        | Descrição textual do local de exposição |\n",
        "| `Fornecedor`       | Marca ou parceiro responsável pela locação |\n",
        "| `Marca`            | Marca destacada no espaço locado |\n",
        "| `PeriodoInicio`    | Data de início da locação |\n",
        "| `PeriodoFim`       | Data de fim da locação |\n",
        "| `ValorLocacao`     | Valor financeiro da locação |\n",
        "| `Modificado`       | Data da última modificação do registro |\n",
        "| `AnaliseIA`        | Campo textual com descrição de análise visual |\n",
        "| `AprovacaoFoto`    | Indica se a foto enviada foi aprovada (SIM/NÃO) |\n",
        "| `ItensExpostos`    | Lista dos produtos expostos na ação |\n",
        "| `QtdExposto`       | Quantidade de itens visíveis no espaço |\n"
      ],
      "metadata": {
        "id": "sH-4EYLyjSZq"
      }
    },
    {
      "cell_type": "markdown",
      "source": [
        "## 2. Análise Inicial do Dataset\n",
        "\n",
        "Abaixo são apresentados os primeiros registros da base, além de uma visão geral das colunas e dados disponíveis. Essa etapa nos ajuda a compreender a estrutura do dataset, identificar tipos de variáveis, possíveis dados faltantes e verificar se há algum pré-processamento necessário antes das análises mais profundas.\n"
      ],
      "metadata": {
        "id": "VVDjNgkjj_vp"
      }
    },
    {
      "cell_type": "markdown",
      "source": [
        "## 2.1 Importação das Bibliotecas\n",
        "\n",
        "Nesta etapa, são importadas as bibliotecas necessárias para manipulação, visualização e análise dos dados:\n",
        "\n",
        "- `pandas`: para carregar e manipular os dados em formato de tabela (DataFrame)\n",
        "- `numpy`: para operações matemáticas/vetoriais\n",
        "- `matplotlib` e `seaborn`: para construção de gráficos e visualizações\n"
      ],
      "metadata": {
        "id": "6rTrqJpKkO5O"
      }
    },
    {
      "cell_type": "code",
      "source": [
        "# Importação das bibliotecas principais para análise de dados\n",
        "import pandas as pd\n",
        "import numpy as np\n",
        "import matplotlib.pyplot as plt\n",
        "import seaborn as sns\n",
        "\n",
        "# Configurações básicas de visualização\n",
        "%matplotlib inline\n",
        "sns.set(style=\"whitegrid\")\n"
      ],
      "metadata": {
        "id": "xJnQDSE_kHtx"
      },
      "execution_count": 1,
      "outputs": []
    },
    {
      "cell_type": "markdown",
      "source": [
        "## 2.2 Leitura do Dataset\n",
        "\n",
        "O dataset foi carregado diretamente do repositório público no GitHub, no formato CSV. Abaixo são mostradas as primeiras linhas da base para visualizar sua estrutura e conteúdo inicial.\n"
      ],
      "metadata": {
        "id": "7pMC0Us_kcLM"
      }
    },
    {
      "cell_type": "code",
      "source": [
        "# Leitura do dataset diretamente da URL raw do GitHub\n",
        "url = 'https://raw.githubusercontent.com/GEANCUNHA/mvp-analise-dados/main/dataset_locacoes_midia_retail.csv'\n",
        "df = pd.read_csv(url, sep=';', encoding='utf-8')\n",
        "\n",
        "# Exibir as 5 primeiras linhas do dataset\n",
        "df.head()\n"
      ],
      "metadata": {
        "colab": {
          "base_uri": "https://localhost:8080/",
          "height": 538
        },
        "id": "OHjCFuRTkVq4",
        "outputId": "e287c644-50e9-4ca9-997e-ead4806b592d"
      },
      "execution_count": 3,
      "outputs": [
        {
          "output_type": "execute_result",
          "data": {
            "text/plain": [
              "  TipoComprovacao Segmento  IdLocacao                               Espaco  \\\n",
              "0         Locação   Varejo   AMA-21-6                  MESA DE VALORIZAÇÃO   \n",
              "1         Locação   Varejo  BOA-27-14                  PLAQUETA DE MONITOR   \n",
              "2         Locação   Varejo   AMA-17-3                              HOME TV   \n",
              "3         Locação    Farma   604-16-3  Ponta de Gôndola - Frente de Balcão   \n",
              "4         Locação    Farma   605-25-5                            Clipstrip   \n",
              "\n",
              "                           Loja         Setor  \\\n",
              "0       Bemol Amazonas Shopping  AUTOSSERVIÇO   \n",
              "1  Bemol Pátio Roraima Shopping             -   \n",
              "2       Bemol Amazonas Shopping            LG   \n",
              "3   Bemol Farma Grande Circular           NaN   \n",
              "4            Bemol Farma Matriz           NaN   \n",
              "\n",
              "                                           Descricao Fornecedor Marca  \\\n",
              "0        Estante em frente a gôndola de ventiladores   BRITÂNIA   NaN   \n",
              "1  333 unidades - Frente: 0,8cm (A) x 0,38 (L) cm...      CLARO   NaN   \n",
              "2          Rack de TV LG, eletrônicos, lado esquerdo         LG    LG   \n",
              "3                                                NaN        FQM   FQM   \n",
              "4                                                NaN        FQM   FQM   \n",
              "\n",
              "  PeriodoInicio  PeriodoFim ValorLocacao  Modificado  \\\n",
              "0    01/11/2024  30/11/2024         2250  17/05/2025   \n",
              "1    01/12/2024  30/12/2024  142,8571429  17/05/2025   \n",
              "2    01/04/2025  30/04/2025         7350  17/05/2025   \n",
              "3    01/06/2025  30/06/2025          968  23/06/2025   \n",
              "4    01/06/2025  30/06/2025           88  23/06/2025   \n",
              "\n",
              "                                           AnaliseIA AprovacaoFoto  \\\n",
              "0                                                NaN           NaN   \n",
              "1                                                NaN           NaN   \n",
              "2  SIM - O logotipo da marca LG está claramente v...           SIM   \n",
              "3                                                NaN           NaN   \n",
              "4                                                NaN           NaN   \n",
              "\n",
              "  ItensExpostos  QtdExposto  \n",
              "0           NaN         NaN  \n",
              "1           NaN         NaN  \n",
              "2           NaN         NaN  \n",
              "3           NaN         NaN  \n",
              "4           NaN         NaN  "
            ],
            "text/html": [
              "\n",
              "  <div id=\"df-7f0185d2-5a9d-4e62-8841-e55ad42cd2c2\" class=\"colab-df-container\">\n",
              "    <div>\n",
              "<style scoped>\n",
              "    .dataframe tbody tr th:only-of-type {\n",
              "        vertical-align: middle;\n",
              "    }\n",
              "\n",
              "    .dataframe tbody tr th {\n",
              "        vertical-align: top;\n",
              "    }\n",
              "\n",
              "    .dataframe thead th {\n",
              "        text-align: right;\n",
              "    }\n",
              "</style>\n",
              "<table border=\"1\" class=\"dataframe\">\n",
              "  <thead>\n",
              "    <tr style=\"text-align: right;\">\n",
              "      <th></th>\n",
              "      <th>TipoComprovacao</th>\n",
              "      <th>Segmento</th>\n",
              "      <th>IdLocacao</th>\n",
              "      <th>Espaco</th>\n",
              "      <th>Loja</th>\n",
              "      <th>Setor</th>\n",
              "      <th>Descricao</th>\n",
              "      <th>Fornecedor</th>\n",
              "      <th>Marca</th>\n",
              "      <th>PeriodoInicio</th>\n",
              "      <th>PeriodoFim</th>\n",
              "      <th>ValorLocacao</th>\n",
              "      <th>Modificado</th>\n",
              "      <th>AnaliseIA</th>\n",
              "      <th>AprovacaoFoto</th>\n",
              "      <th>ItensExpostos</th>\n",
              "      <th>QtdExposto</th>\n",
              "    </tr>\n",
              "  </thead>\n",
              "  <tbody>\n",
              "    <tr>\n",
              "      <th>0</th>\n",
              "      <td>Locação</td>\n",
              "      <td>Varejo</td>\n",
              "      <td>AMA-21-6</td>\n",
              "      <td>MESA DE VALORIZAÇÃO</td>\n",
              "      <td>Bemol Amazonas Shopping</td>\n",
              "      <td>AUTOSSERVIÇO</td>\n",
              "      <td>Estante em frente a gôndola de ventiladores</td>\n",
              "      <td>BRITÂNIA</td>\n",
              "      <td>NaN</td>\n",
              "      <td>01/11/2024</td>\n",
              "      <td>30/11/2024</td>\n",
              "      <td>2250</td>\n",
              "      <td>17/05/2025</td>\n",
              "      <td>NaN</td>\n",
              "      <td>NaN</td>\n",
              "      <td>NaN</td>\n",
              "      <td>NaN</td>\n",
              "    </tr>\n",
              "    <tr>\n",
              "      <th>1</th>\n",
              "      <td>Locação</td>\n",
              "      <td>Varejo</td>\n",
              "      <td>BOA-27-14</td>\n",
              "      <td>PLAQUETA DE MONITOR</td>\n",
              "      <td>Bemol Pátio Roraima Shopping</td>\n",
              "      <td>-</td>\n",
              "      <td>333 unidades - Frente: 0,8cm (A) x 0,38 (L) cm...</td>\n",
              "      <td>CLARO</td>\n",
              "      <td>NaN</td>\n",
              "      <td>01/12/2024</td>\n",
              "      <td>30/12/2024</td>\n",
              "      <td>142,8571429</td>\n",
              "      <td>17/05/2025</td>\n",
              "      <td>NaN</td>\n",
              "      <td>NaN</td>\n",
              "      <td>NaN</td>\n",
              "      <td>NaN</td>\n",
              "    </tr>\n",
              "    <tr>\n",
              "      <th>2</th>\n",
              "      <td>Locação</td>\n",
              "      <td>Varejo</td>\n",
              "      <td>AMA-17-3</td>\n",
              "      <td>HOME TV</td>\n",
              "      <td>Bemol Amazonas Shopping</td>\n",
              "      <td>LG</td>\n",
              "      <td>Rack de TV LG, eletrônicos, lado esquerdo</td>\n",
              "      <td>LG</td>\n",
              "      <td>LG</td>\n",
              "      <td>01/04/2025</td>\n",
              "      <td>30/04/2025</td>\n",
              "      <td>7350</td>\n",
              "      <td>17/05/2025</td>\n",
              "      <td>SIM - O logotipo da marca LG está claramente v...</td>\n",
              "      <td>SIM</td>\n",
              "      <td>NaN</td>\n",
              "      <td>NaN</td>\n",
              "    </tr>\n",
              "    <tr>\n",
              "      <th>3</th>\n",
              "      <td>Locação</td>\n",
              "      <td>Farma</td>\n",
              "      <td>604-16-3</td>\n",
              "      <td>Ponta de Gôndola - Frente de Balcão</td>\n",
              "      <td>Bemol Farma Grande Circular</td>\n",
              "      <td>NaN</td>\n",
              "      <td>NaN</td>\n",
              "      <td>FQM</td>\n",
              "      <td>FQM</td>\n",
              "      <td>01/06/2025</td>\n",
              "      <td>30/06/2025</td>\n",
              "      <td>968</td>\n",
              "      <td>23/06/2025</td>\n",
              "      <td>NaN</td>\n",
              "      <td>NaN</td>\n",
              "      <td>NaN</td>\n",
              "      <td>NaN</td>\n",
              "    </tr>\n",
              "    <tr>\n",
              "      <th>4</th>\n",
              "      <td>Locação</td>\n",
              "      <td>Farma</td>\n",
              "      <td>605-25-5</td>\n",
              "      <td>Clipstrip</td>\n",
              "      <td>Bemol Farma Matriz</td>\n",
              "      <td>NaN</td>\n",
              "      <td>NaN</td>\n",
              "      <td>FQM</td>\n",
              "      <td>FQM</td>\n",
              "      <td>01/06/2025</td>\n",
              "      <td>30/06/2025</td>\n",
              "      <td>88</td>\n",
              "      <td>23/06/2025</td>\n",
              "      <td>NaN</td>\n",
              "      <td>NaN</td>\n",
              "      <td>NaN</td>\n",
              "      <td>NaN</td>\n",
              "    </tr>\n",
              "  </tbody>\n",
              "</table>\n",
              "</div>\n",
              "    <div class=\"colab-df-buttons\">\n",
              "\n",
              "  <div class=\"colab-df-container\">\n",
              "    <button class=\"colab-df-convert\" onclick=\"convertToInteractive('df-7f0185d2-5a9d-4e62-8841-e55ad42cd2c2')\"\n",
              "            title=\"Convert this dataframe to an interactive table.\"\n",
              "            style=\"display:none;\">\n",
              "\n",
              "  <svg xmlns=\"http://www.w3.org/2000/svg\" height=\"24px\" viewBox=\"0 -960 960 960\">\n",
              "    <path d=\"M120-120v-720h720v720H120Zm60-500h600v-160H180v160Zm220 220h160v-160H400v160Zm0 220h160v-160H400v160ZM180-400h160v-160H180v160Zm440 0h160v-160H620v160ZM180-180h160v-160H180v160Zm440 0h160v-160H620v160Z\"/>\n",
              "  </svg>\n",
              "    </button>\n",
              "\n",
              "  <style>\n",
              "    .colab-df-container {\n",
              "      display:flex;\n",
              "      gap: 12px;\n",
              "    }\n",
              "\n",
              "    .colab-df-convert {\n",
              "      background-color: #E8F0FE;\n",
              "      border: none;\n",
              "      border-radius: 50%;\n",
              "      cursor: pointer;\n",
              "      display: none;\n",
              "      fill: #1967D2;\n",
              "      height: 32px;\n",
              "      padding: 0 0 0 0;\n",
              "      width: 32px;\n",
              "    }\n",
              "\n",
              "    .colab-df-convert:hover {\n",
              "      background-color: #E2EBFA;\n",
              "      box-shadow: 0px 1px 2px rgba(60, 64, 67, 0.3), 0px 1px 3px 1px rgba(60, 64, 67, 0.15);\n",
              "      fill: #174EA6;\n",
              "    }\n",
              "\n",
              "    .colab-df-buttons div {\n",
              "      margin-bottom: 4px;\n",
              "    }\n",
              "\n",
              "    [theme=dark] .colab-df-convert {\n",
              "      background-color: #3B4455;\n",
              "      fill: #D2E3FC;\n",
              "    }\n",
              "\n",
              "    [theme=dark] .colab-df-convert:hover {\n",
              "      background-color: #434B5C;\n",
              "      box-shadow: 0px 1px 3px 1px rgba(0, 0, 0, 0.15);\n",
              "      filter: drop-shadow(0px 1px 2px rgba(0, 0, 0, 0.3));\n",
              "      fill: #FFFFFF;\n",
              "    }\n",
              "  </style>\n",
              "\n",
              "    <script>\n",
              "      const buttonEl =\n",
              "        document.querySelector('#df-7f0185d2-5a9d-4e62-8841-e55ad42cd2c2 button.colab-df-convert');\n",
              "      buttonEl.style.display =\n",
              "        google.colab.kernel.accessAllowed ? 'block' : 'none';\n",
              "\n",
              "      async function convertToInteractive(key) {\n",
              "        const element = document.querySelector('#df-7f0185d2-5a9d-4e62-8841-e55ad42cd2c2');\n",
              "        const dataTable =\n",
              "          await google.colab.kernel.invokeFunction('convertToInteractive',\n",
              "                                                    [key], {});\n",
              "        if (!dataTable) return;\n",
              "\n",
              "        const docLinkHtml = 'Like what you see? Visit the ' +\n",
              "          '<a target=\"_blank\" href=https://colab.research.google.com/notebooks/data_table.ipynb>data table notebook</a>'\n",
              "          + ' to learn more about interactive tables.';\n",
              "        element.innerHTML = '';\n",
              "        dataTable['output_type'] = 'display_data';\n",
              "        await google.colab.output.renderOutput(dataTable, element);\n",
              "        const docLink = document.createElement('div');\n",
              "        docLink.innerHTML = docLinkHtml;\n",
              "        element.appendChild(docLink);\n",
              "      }\n",
              "    </script>\n",
              "  </div>\n",
              "\n",
              "\n",
              "    <div id=\"df-2fe3184d-ad80-4ccb-9308-3474a439f130\">\n",
              "      <button class=\"colab-df-quickchart\" onclick=\"quickchart('df-2fe3184d-ad80-4ccb-9308-3474a439f130')\"\n",
              "                title=\"Suggest charts\"\n",
              "                style=\"display:none;\">\n",
              "\n",
              "<svg xmlns=\"http://www.w3.org/2000/svg\" height=\"24px\"viewBox=\"0 0 24 24\"\n",
              "     width=\"24px\">\n",
              "    <g>\n",
              "        <path d=\"M19 3H5c-1.1 0-2 .9-2 2v14c0 1.1.9 2 2 2h14c1.1 0 2-.9 2-2V5c0-1.1-.9-2-2-2zM9 17H7v-7h2v7zm4 0h-2V7h2v10zm4 0h-2v-4h2v4z\"/>\n",
              "    </g>\n",
              "</svg>\n",
              "      </button>\n",
              "\n",
              "<style>\n",
              "  .colab-df-quickchart {\n",
              "      --bg-color: #E8F0FE;\n",
              "      --fill-color: #1967D2;\n",
              "      --hover-bg-color: #E2EBFA;\n",
              "      --hover-fill-color: #174EA6;\n",
              "      --disabled-fill-color: #AAA;\n",
              "      --disabled-bg-color: #DDD;\n",
              "  }\n",
              "\n",
              "  [theme=dark] .colab-df-quickchart {\n",
              "      --bg-color: #3B4455;\n",
              "      --fill-color: #D2E3FC;\n",
              "      --hover-bg-color: #434B5C;\n",
              "      --hover-fill-color: #FFFFFF;\n",
              "      --disabled-bg-color: #3B4455;\n",
              "      --disabled-fill-color: #666;\n",
              "  }\n",
              "\n",
              "  .colab-df-quickchart {\n",
              "    background-color: var(--bg-color);\n",
              "    border: none;\n",
              "    border-radius: 50%;\n",
              "    cursor: pointer;\n",
              "    display: none;\n",
              "    fill: var(--fill-color);\n",
              "    height: 32px;\n",
              "    padding: 0;\n",
              "    width: 32px;\n",
              "  }\n",
              "\n",
              "  .colab-df-quickchart:hover {\n",
              "    background-color: var(--hover-bg-color);\n",
              "    box-shadow: 0 1px 2px rgba(60, 64, 67, 0.3), 0 1px 3px 1px rgba(60, 64, 67, 0.15);\n",
              "    fill: var(--button-hover-fill-color);\n",
              "  }\n",
              "\n",
              "  .colab-df-quickchart-complete:disabled,\n",
              "  .colab-df-quickchart-complete:disabled:hover {\n",
              "    background-color: var(--disabled-bg-color);\n",
              "    fill: var(--disabled-fill-color);\n",
              "    box-shadow: none;\n",
              "  }\n",
              "\n",
              "  .colab-df-spinner {\n",
              "    border: 2px solid var(--fill-color);\n",
              "    border-color: transparent;\n",
              "    border-bottom-color: var(--fill-color);\n",
              "    animation:\n",
              "      spin 1s steps(1) infinite;\n",
              "  }\n",
              "\n",
              "  @keyframes spin {\n",
              "    0% {\n",
              "      border-color: transparent;\n",
              "      border-bottom-color: var(--fill-color);\n",
              "      border-left-color: var(--fill-color);\n",
              "    }\n",
              "    20% {\n",
              "      border-color: transparent;\n",
              "      border-left-color: var(--fill-color);\n",
              "      border-top-color: var(--fill-color);\n",
              "    }\n",
              "    30% {\n",
              "      border-color: transparent;\n",
              "      border-left-color: var(--fill-color);\n",
              "      border-top-color: var(--fill-color);\n",
              "      border-right-color: var(--fill-color);\n",
              "    }\n",
              "    40% {\n",
              "      border-color: transparent;\n",
              "      border-right-color: var(--fill-color);\n",
              "      border-top-color: var(--fill-color);\n",
              "    }\n",
              "    60% {\n",
              "      border-color: transparent;\n",
              "      border-right-color: var(--fill-color);\n",
              "    }\n",
              "    80% {\n",
              "      border-color: transparent;\n",
              "      border-right-color: var(--fill-color);\n",
              "      border-bottom-color: var(--fill-color);\n",
              "    }\n",
              "    90% {\n",
              "      border-color: transparent;\n",
              "      border-bottom-color: var(--fill-color);\n",
              "    }\n",
              "  }\n",
              "</style>\n",
              "\n",
              "      <script>\n",
              "        async function quickchart(key) {\n",
              "          const quickchartButtonEl =\n",
              "            document.querySelector('#' + key + ' button');\n",
              "          quickchartButtonEl.disabled = true;  // To prevent multiple clicks.\n",
              "          quickchartButtonEl.classList.add('colab-df-spinner');\n",
              "          try {\n",
              "            const charts = await google.colab.kernel.invokeFunction(\n",
              "                'suggestCharts', [key], {});\n",
              "          } catch (error) {\n",
              "            console.error('Error during call to suggestCharts:', error);\n",
              "          }\n",
              "          quickchartButtonEl.classList.remove('colab-df-spinner');\n",
              "          quickchartButtonEl.classList.add('colab-df-quickchart-complete');\n",
              "        }\n",
              "        (() => {\n",
              "          let quickchartButtonEl =\n",
              "            document.querySelector('#df-2fe3184d-ad80-4ccb-9308-3474a439f130 button');\n",
              "          quickchartButtonEl.style.display =\n",
              "            google.colab.kernel.accessAllowed ? 'block' : 'none';\n",
              "        })();\n",
              "      </script>\n",
              "    </div>\n",
              "\n",
              "    </div>\n",
              "  </div>\n"
            ],
            "application/vnd.google.colaboratory.intrinsic+json": {
              "type": "dataframe",
              "variable_name": "df",
              "summary": "{\n  \"name\": \"df\",\n  \"rows\": 7098,\n  \"fields\": [\n    {\n      \"column\": \"TipoComprovacao\",\n      \"properties\": {\n        \"dtype\": \"category\",\n        \"num_unique_values\": 2,\n        \"samples\": [\n          \"Operacional\",\n          \"Loca\\u00e7\\u00e3o\"\n        ],\n        \"semantic_type\": \"\",\n        \"description\": \"\"\n      }\n    },\n    {\n      \"column\": \"Segmento\",\n      \"properties\": {\n        \"dtype\": \"category\",\n        \"num_unique_values\": 2,\n        \"samples\": [\n          \"Farma\",\n          \"Varejo\"\n        ],\n        \"semantic_type\": \"\",\n        \"description\": \"\"\n      }\n    },\n    {\n      \"column\": \"IdLocacao\",\n      \"properties\": {\n        \"dtype\": \"category\",\n        \"num_unique_values\": 2653,\n        \"samples\": [\n          \"OPR-81669\",\n          \"621-2-1\"\n        ],\n        \"semantic_type\": \"\",\n        \"description\": \"\"\n      }\n    },\n    {\n      \"column\": \"Espaco\",\n      \"properties\": {\n        \"dtype\": \"category\",\n        \"num_unique_values\": 74,\n        \"samples\": [\n          \"Clipstrip\",\n          \"3 Prateleiras de Dermo\"\n        ],\n        \"semantic_type\": \"\",\n        \"description\": \"\"\n      }\n    },\n    {\n      \"column\": \"Loja\",\n      \"properties\": {\n        \"dtype\": \"category\",\n        \"num_unique_values\": 107,\n        \"samples\": [\n          \"Bemol Presidente Figueiredo\",\n          \"Bemol Farma Avenida\"\n        ],\n        \"semantic_type\": \"\",\n        \"description\": \"\"\n      }\n    },\n    {\n      \"column\": \"Setor\",\n      \"properties\": {\n        \"dtype\": \"category\",\n        \"num_unique_values\": 29,\n        \"samples\": [\n          \"Salao\",\n          \"G\"\n        ],\n        \"semantic_type\": \"\",\n        \"description\": \"\"\n      }\n    },\n    {\n      \"column\": \"Descricao\",\n      \"properties\": {\n        \"dtype\": \"category\",\n        \"num_unique_values\": 264,\n        \"samples\": [\n          \"Entrada, lateral, direita, 2\",\n          \"Ilha de celulares\"\n        ],\n        \"semantic_type\": \"\",\n        \"description\": \"\"\n      }\n    },\n    {\n      \"column\": \"Fornecedor\",\n      \"properties\": {\n        \"dtype\": \"category\",\n        \"num_unique_values\": 106,\n        \"samples\": [\n          \"BIOLAB\",\n          \"LEGRAND\"\n        ],\n        \"semantic_type\": \"\",\n        \"description\": \"\"\n      }\n    },\n    {\n      \"column\": \"Marca\",\n      \"properties\": {\n        \"dtype\": \"category\",\n        \"num_unique_values\": 135,\n        \"samples\": [\n          \"Bemol Crediario Parceiro\",\n          \"Einhell\"\n        ],\n        \"semantic_type\": \"\",\n        \"description\": \"\"\n      }\n    },\n    {\n      \"column\": \"PeriodoInicio\",\n      \"properties\": {\n        \"dtype\": \"object\",\n        \"num_unique_values\": 15,\n        \"samples\": [\n          \"01/12/2025\",\n          \"01/02/2025\"\n        ],\n        \"semantic_type\": \"\",\n        \"description\": \"\"\n      }\n    },\n    {\n      \"column\": \"PeriodoFim\",\n      \"properties\": {\n        \"dtype\": \"object\",\n        \"num_unique_values\": 18,\n        \"samples\": [\n          \"30/11/2024\",\n          \"30/12/2024\"\n        ],\n        \"semantic_type\": \"\",\n        \"description\": \"\"\n      }\n    },\n    {\n      \"column\": \"ValorLocacao\",\n      \"properties\": {\n        \"dtype\": \"category\",\n        \"num_unique_values\": 444,\n        \"samples\": [\n          \"4667,67\",\n          \"600\"\n        ],\n        \"semantic_type\": \"\",\n        \"description\": \"\"\n      }\n    },\n    {\n      \"column\": \"Modificado\",\n      \"properties\": {\n        \"dtype\": \"object\",\n        \"num_unique_values\": 48,\n        \"samples\": [\n          \"05/07/2025\",\n          \"27/05/2025\"\n        ],\n        \"semantic_type\": \"\",\n        \"description\": \"\"\n      }\n    },\n    {\n      \"column\": \"AnaliseIA\",\n      \"properties\": {\n        \"dtype\": \"string\",\n        \"num_unique_values\": 3787,\n        \"samples\": [\n          \"SIM - O logotipo e o nome \\\"TRAMONTINA\\\" est\\u00e3o visivelmente presentes nas caixas dos produtos na imagem.\\n\",\n          \"SIM - O logotipo da marca Colgate est\\u00e1 claramente vis\\u00edvel na parte superior da imagem, al\\u00e9m do nome \\\"Colgate\\\" em v\\u00e1rios produtos expostos na prateleira.\\n\"\n        ],\n        \"semantic_type\": \"\",\n        \"description\": \"\"\n      }\n    },\n    {\n      \"column\": \"AprovacaoFoto\",\n      \"properties\": {\n        \"dtype\": \"category\",\n        \"num_unique_values\": 7,\n        \"samples\": [\n          \"SIM\",\n          \"N\\u00c3O\"\n        ],\n        \"semantic_type\": \"\",\n        \"description\": \"\"\n      }\n    },\n    {\n      \"column\": \"ItensExpostos\",\n      \"properties\": {\n        \"dtype\": \"category\",\n        \"num_unique_values\": 1218,\n        \"samples\": [\n          \"Smartphone Motorola Razr 60 Ultra, Smartphone Motorola Razr 60 Azul, Smartphone Motorola Razr 60 Rosa, Smartphone Motorola Razr 60 Verde\",\n          \"Pirulito Original Gourmet, base de exposi\\u00e7\\u00e3o de pirulitos, cartaz de sabor de pirulitos\"\n        ],\n        \"semantic_type\": \"\",\n        \"description\": \"\"\n      }\n    },\n    {\n      \"column\": \"QtdExposto\",\n      \"properties\": {\n        \"dtype\": \"number\",\n        \"std\": 6.395200804004185,\n        \"min\": 0.0,\n        \"max\": 45.0,\n        \"num_unique_values\": 37,\n        \"samples\": [\n          16.0,\n          23.0\n        ],\n        \"semantic_type\": \"\",\n        \"description\": \"\"\n      }\n    }\n  ]\n}"
            }
          },
          "metadata": {},
          "execution_count": 3
        }
      ]
    },
    {
      "cell_type": "markdown",
      "source": [
        "## 2.3 Estrutura Geral do Dataset\n",
        "\n",
        "Com o comando `.info()` podemos verificar:\n",
        "- Quantidade de colunas e linhas\n",
        "- Tipos de dados de cada coluna\n",
        "- Quantidade de valores não nulos por atributo\n",
        "\n",
        "Essas informações ajudam a identificar possíveis campos com dados faltantes e a planejar etapas de pré-processamento.\n"
      ],
      "metadata": {
        "id": "YYa-M-rpk3Xn"
      }
    },
    {
      "cell_type": "code",
      "source": [
        "# Ver informações gerais sobre o DataFrame\n",
        "df.info()\n"
      ],
      "metadata": {
        "colab": {
          "base_uri": "https://localhost:8080/"
        },
        "id": "XAwSqxcLk6YI",
        "outputId": "42de4e7c-4598-4fac-b82c-ed806e146bf6"
      },
      "execution_count": 4,
      "outputs": [
        {
          "output_type": "stream",
          "name": "stdout",
          "text": [
            "<class 'pandas.core.frame.DataFrame'>\n",
            "RangeIndex: 7098 entries, 0 to 7097\n",
            "Data columns (total 17 columns):\n",
            " #   Column           Non-Null Count  Dtype  \n",
            "---  ------           --------------  -----  \n",
            " 0   TipoComprovacao  7093 non-null   object \n",
            " 1   Segmento         7098 non-null   object \n",
            " 2   IdLocacao        7093 non-null   object \n",
            " 3   Espaco           7098 non-null   object \n",
            " 4   Loja             7098 non-null   object \n",
            " 5   Setor            3249 non-null   object \n",
            " 6   Descricao        3871 non-null   object \n",
            " 7   Fornecedor       6156 non-null   object \n",
            " 8   Marca            6530 non-null   object \n",
            " 9   PeriodoInicio    7098 non-null   object \n",
            " 10  PeriodoFim       7098 non-null   object \n",
            " 11  ValorLocacao     6011 non-null   object \n",
            " 12  Modificado       7098 non-null   object \n",
            " 13  AnaliseIA        3961 non-null   object \n",
            " 14  AprovacaoFoto    3961 non-null   object \n",
            " 15  ItensExpostos    1237 non-null   object \n",
            " 16  QtdExposto       1299 non-null   float64\n",
            "dtypes: float64(1), object(16)\n",
            "memory usage: 942.8+ KB\n"
          ]
        }
      ]
    },
    {
      "cell_type": "markdown",
      "source": [
        "### Análise da Estrutura da Base\n",
        "\n",
        "A base contém **7098 registros** distribuídos em **17 colunas**. A maioria das colunas está no formato `object`, o que é comum para textos, datas em formato string e campos categóricos.\n",
        "\n",
        "Pontos observados:\n",
        "\n",
        "- As colunas `TipoComprovacao` e `IdLocacao` possuem **5 valores ausentes cada**, o que merece atenção, pois são campos-chave.\n",
        "- A coluna `Setor` tem muitos valores ausentes: apenas 3249 de 7098 registros (menos da metade).\n",
        "- `Descricao`, `Fornecedor`, `Marca`, `AnaliseIA` e `AprovacaoFoto` também apresentam **ausência significativa de dados**.\n",
        "- `ItensExpostos` e `QtdExposto` têm poucos dados preenchidos em relação ao total da base.\n",
        "- A coluna `ValorLocacao`, apesar de representar um valor numérico, está como `object`, o que indica necessidade de **conversão para tipo numérico** após limpeza.\n",
        "- As colunas `PeriodoInicio`, `PeriodoFim` e `Modificado` também estão como `object` e deverão ser convertidas para `datetime`.\n",
        "\n",
        "Essas observações serão importantes para o tratamento de dados na etapa de pré-processamento.\n"
      ],
      "metadata": {
        "id": "xXVV1EzLlqZA"
      }
    },
    {
      "cell_type": "markdown",
      "source": [
        "## 2.4 Estatísticas Descritivas\n",
        "\n",
        "A principal métrica de interesse é o `ValorLocacao`, que representa o valor financeiro de cada locação de espaço publicitário. Inicialmente, a coluna estava como texto (`object`) e precisou ser convertida para `float` para permitir análise numérica.\n"
      ],
      "metadata": {
        "id": "So0EDJqSl0Bn"
      }
    },
    {
      "cell_type": "code",
      "source": [
        "# Substituir vírgulas por ponto e converter para float\n",
        "df['ValorLocacao'] = df['ValorLocacao'].str.replace(',', '.').astype(float)\n"
      ],
      "metadata": {
        "id": "YDaKDGDRmQtc"
      },
      "execution_count": 6,
      "outputs": []
    },
    {
      "cell_type": "code",
      "source": [
        "# Estatísticas descritivas da variável de interesse\n",
        "df['ValorLocacao'].describe()\n"
      ],
      "metadata": {
        "colab": {
          "base_uri": "https://localhost:8080/",
          "height": 335
        },
        "id": "ApNdHH85mUvL",
        "outputId": "1a3395d6-7016-4fe4-83c3-c2e96aab237d"
      },
      "execution_count": 7,
      "outputs": [
        {
          "output_type": "execute_result",
          "data": {
            "text/plain": [
              "count     6011.000000\n",
              "mean      2115.930571\n",
              "std       2383.954106\n",
              "min          0.000000\n",
              "25%        275.000000\n",
              "50%        968.000000\n",
              "75%       3250.000000\n",
              "max      20000.000000\n",
              "Name: ValorLocacao, dtype: float64"
            ],
            "text/html": [
              "<div>\n",
              "<style scoped>\n",
              "    .dataframe tbody tr th:only-of-type {\n",
              "        vertical-align: middle;\n",
              "    }\n",
              "\n",
              "    .dataframe tbody tr th {\n",
              "        vertical-align: top;\n",
              "    }\n",
              "\n",
              "    .dataframe thead th {\n",
              "        text-align: right;\n",
              "    }\n",
              "</style>\n",
              "<table border=\"1\" class=\"dataframe\">\n",
              "  <thead>\n",
              "    <tr style=\"text-align: right;\">\n",
              "      <th></th>\n",
              "      <th>ValorLocacao</th>\n",
              "    </tr>\n",
              "  </thead>\n",
              "  <tbody>\n",
              "    <tr>\n",
              "      <th>count</th>\n",
              "      <td>6011.000000</td>\n",
              "    </tr>\n",
              "    <tr>\n",
              "      <th>mean</th>\n",
              "      <td>2115.930571</td>\n",
              "    </tr>\n",
              "    <tr>\n",
              "      <th>std</th>\n",
              "      <td>2383.954106</td>\n",
              "    </tr>\n",
              "    <tr>\n",
              "      <th>min</th>\n",
              "      <td>0.000000</td>\n",
              "    </tr>\n",
              "    <tr>\n",
              "      <th>25%</th>\n",
              "      <td>275.000000</td>\n",
              "    </tr>\n",
              "    <tr>\n",
              "      <th>50%</th>\n",
              "      <td>968.000000</td>\n",
              "    </tr>\n",
              "    <tr>\n",
              "      <th>75%</th>\n",
              "      <td>3250.000000</td>\n",
              "    </tr>\n",
              "    <tr>\n",
              "      <th>max</th>\n",
              "      <td>20000.000000</td>\n",
              "    </tr>\n",
              "  </tbody>\n",
              "</table>\n",
              "</div><br><label><b>dtype:</b> float64</label>"
            ]
          },
          "metadata": {},
          "execution_count": 7
        }
      ]
    },
    {
      "cell_type": "markdown",
      "source": [],
      "metadata": {
        "id": "lslVZDsnmlOv"
      }
    },
    {
      "cell_type": "markdown",
      "source": [
        "### Análise da variável `ValorLocacao`\n",
        "\n",
        "Após conversão da coluna para o tipo numérico, observamos:\n",
        "\n",
        "- Quantidade de locações válidas: 6011\n",
        "- Valor médio (mean): R\\$ 2.115,93\n",
        "- Mediana (50%): R\\$ 968,00 → valor abaixo da média, indicando distribuição assimétrica (à direita), ou seja, com valores muito altos puxando a média para cima.\n",
        "- Mínimo: R\\$ 0,00 → pode indicar registros inválidos ou locações gratuitas.\n",
        "- Máximo: R\\$ 20.000,00 → representa as ações mais caras registradas.\n",
        "- Desvio padrão: R\\$ 2.383,95 → valor alto, o que sugere grande variabilidade nos preços praticados.\n",
        "\n",
        "Essas informações reforçam a necessidade de investigar outliers e entender como os valores de locação variam por loja, tipo de espaço ou segmento. Também mostram que a média sozinha não é suficiente para representar o comportamento dos dados.\n"
      ],
      "metadata": {
        "id": "L2mPuPxSn16a"
      }
    },
    {
      "cell_type": "markdown",
      "source": [
        "## 2.5 Visualização da Distribuição de Valores\n",
        "\n",
        "Nesta etapa visualizamos a distribuição da variável `ValorLocacao` por meio de um histograma e um boxplot. Essas representações gráficas nos ajudam a identificar padrões, caudas assimétricas e outliers.\n"
      ],
      "metadata": {
        "id": "94slHDYDoFcE"
      }
    },
    {
      "cell_type": "code",
      "source": [
        "# Histograma da distribuição de valores\n",
        "plt.figure(figsize=(10, 5))\n",
        "sns.histplot(df['ValorLocacao'], bins=50, kde=True, color='skyblue')\n",
        "plt.title('Distribuição dos Valores de Locação')\n",
        "plt.xlabel('Valor da Locação (R$)')\n",
        "plt.ylabel('Frequência')\n",
        "plt.show()\n"
      ],
      "metadata": {
        "colab": {
          "base_uri": "https://localhost:8080/",
          "height": 496
        },
        "id": "w9GoYpxAoH3U",
        "outputId": "0a8247a9-dbc7-4023-aa42-9e91c82e2c28"
      },
      "execution_count": 8,
      "outputs": [
        {
          "output_type": "display_data",
          "data": {
            "text/plain": [
              "<Figure size 1000x500 with 1 Axes>"
            ],
            "image/png": "[encoded data removed]"
          },
          "metadata": {}
        }
      ]
    },
    {
      "cell_type": "code",
      "source": [
        "# Boxplot para visualizar outliers\n",
        "plt.figure(figsize=(10, 2))\n",
        "sns.boxplot(x=df['ValorLocacao'], color='orange')\n",
        "plt.title('Boxplot dos Valores de Locação')\n",
        "plt.xlabel('Valor da Locação (R$)')\n",
        "plt.show()\n"
      ],
      "metadata": {
        "colab": {
          "base_uri": "https://localhost:8080/",
          "height": 265
        },
        "id": "vhLLxPkMoMQL",
        "outputId": "6b1eedb1-0059-47fc-d94d-4b8033f9125f"
      },
      "execution_count": 9,
      "outputs": [
        {
          "output_type": "display_data",
          "data": {
            "text/plain": [
              "<Figure size 1000x200 with 1 Axes>"
            ],
            "image/png": "[encoded data removed]"
          },
          "metadata": {}
        }
      ]
    },
    {
      "cell_type": "markdown",
      "source": [
        "### Análise dos Gráficos de Distribuição\n",
        "\n",
        "A análise visual da variável `ValorLocacao` revela importantes características da base:\n",
        "\n",
        "- **Histograma**: a distribuição dos valores é bastante concentrada nos valores mais baixos, especialmente abaixo de R\\$ 3.000. A curva KDE reforça essa assimetria, com uma **cauda longa à direita**, típica de distribuições com muitos valores baixos e poucos valores muito altos.\n",
        "\n",
        "- **Boxplot**: confirma a existência de **diversos outliers**, principalmente acima de R\\$ 7.500. Esses valores, embora reais, podem distorcer médias e análises agregadas, sendo recomendável tratá-los separadamente em análises específicas.\n",
        "\n",
        "Essa assimetria e dispersão indicam que **a mediana (R\\$ 968,00)** é uma medida mais representativa do \"centro\" da distribuição do que a média. Também reforça a necessidade de segmentar os dados por variáveis como loja, tipo de espaço ou fornecedor para análises mais equilibradas.\n"
      ],
      "metadata": {
        "id": "25issr-golhv"
      }
    },
    {
      "cell_type": "markdown",
      "source": [
        "## 2.6 Valor Médio de Locação por Loja\n",
        "\n",
        "Agora analisamos quais lojas concentram os maiores valores médios de locação. Essa análise permite identificar quais unidades possuem maior potencial de receita em ações de merchandising.\n"
      ],
      "metadata": {
        "id": "t3VOO5AnpEKy"
      }
    },
    {
      "cell_type": "code",
      "source": [
        "# Top 15 lojas com maior valor médio de locação\n",
        "valor_medio_por_loja = df.groupby('Loja')['ValorLocacao'].mean().sort_values(ascending=False).head(15)\n",
        "\n",
        "# Plot\n",
        "plt.figure(figsize=(12, 6))\n",
        "sns.barplot(x=valor_medio_por_loja.values, y=valor_medio_por_loja.index, palette='viridis')\n",
        "plt.title('Top 15 Lojas por Valor Médio de Locação')\n",
        "plt.xlabel('Valor Médio (R$)')\n",
        "plt.ylabel('Loja')\n",
        "plt.show()\n"
      ],
      "metadata": {
        "colab": {
          "base_uri": "https://localhost:8080/",
          "height": 664
        },
        "id": "0W4RFfXSpGoI",
        "outputId": "445e1be7-ec45-4283-eeb0-3a6bb131ee56"
      },
      "execution_count": 10,
      "outputs": [
        {
          "output_type": "stream",
          "name": "stderr",
          "text": [
            "/tmp/ipython-input-10-4096961481.py:6: FutureWarning: \n",
            "\n",
            "Passing `palette` without assigning `hue` is deprecated and will be removed in v0.14.0. Assign the `y` variable to `hue` and set `legend=False` for the same effect.\n",
            "\n",
            "  sns.barplot(x=valor_medio_por_loja.values, y=valor_medio_por_loja.index, palette='viridis')\n"
          ]
        },
        {
          "output_type": "display_data",
          "data": {
            "text/plain": [
              "<Figure size 1200x600 with 1 Axes>"
            ],
            "image/png": "[encoded data removed]"
          },
          "metadata": {}
        }
      ]
    },
    {
      "cell_type": "markdown",
      "source": [
        "### Análise do Valor Médio de Locação por Loja\n",
        "\n",
        "A análise do valor médio de locação por loja mostra que as unidades com maiores médias são, em sua maioria, lojas de grande porte ou localizadas em regiões de alto fluxo:\n",
        "\n",
        "- **Bemol Cidade Nova**, **Bemol Grande Circular** e **Bemol Amazonas Shopping** lideram o ranking, todas com valor médio acima de R\\$ 5.000 por locação.\n",
        "- Lojas como **Bemol Manauara Shopping** e **Bemol Ponta Negra**, que possuem forte presença em centros comerciais, também figuram entre os primeiros colocados.\n",
        "- As **lojas Farma** (como a 647, 648 e 617) aparecem no meio da lista, com valores médios entre R\\$ 3.500 e R\\$ 4.000.\n",
        "- Na base da lista estão lojas com menor potencial ou volume de mídia locada, como **Porto Velho Centro** e **Studio 5 Mall**, ambas abaixo de R\\$ 3.000.\n",
        "\n",
        "Essa análise confirma a **hipótese de variação significativa entre lojas**, e reforça que o local da unidade influencia diretamente o valor praticado nas ações de merchandising.\n"
      ],
      "metadata": {
        "id": "wkSPBGSTpaoM"
      }
    },
    {
      "cell_type": "markdown",
      "source": [],
      "metadata": {
        "id": "twc-50ecpamr"
      }
    },
    {
      "cell_type": "markdown",
      "source": [
        "## 2.7 Valor Total de Locação por Tipo de Espaço\n",
        "\n",
        "Diferente da média por locação, aqui analisamos o valor total de locações acumulado por tipo de espaço. Isso permite entender quais formatos são mais utilizados e mais rentáveis para a operação.\n"
      ],
      "metadata": {
        "id": "h8IRTciEqdy_"
      }
    },
    {
      "cell_type": "markdown",
      "source": [],
      "metadata": {
        "id": "RPTGOryQqdxp"
      }
    },
    {
      "cell_type": "code",
      "source": [
        "# Valor total de locação por tipo de espaço\n",
        "espacos_valor_total = df.groupby('Espaco')['ValorLocacao'].sum().sort_values(ascending=False).head(15)\n",
        "\n",
        "# Plot\n",
        "plt.figure(figsize=(12, 6))\n",
        "sns.barplot(x=espacos_valor_total.values, y=espacos_valor_total.index, palette='flare')\n",
        "plt.title('Top 15 Tipos de Espaço por Valor Total de Locação')\n",
        "plt.xlabel('Valor Total Locado (R$)')\n",
        "plt.ylabel('Tipo de Espaço')\n",
        "plt.show()\n"
      ],
      "metadata": {
        "colab": {
          "base_uri": "https://localhost:8080/",
          "height": 664
        },
        "id": "SjGj-GiIqhge",
        "outputId": "bd1931d6-d29d-4ad0-e055-e668c882e444"
      },
      "execution_count": 11,
      "outputs": [
        {
          "output_type": "stream",
          "name": "stderr",
          "text": [
            "/tmp/ipython-input-11-2810736313.py:6: FutureWarning: \n",
            "\n",
            "Passing `palette` without assigning `hue` is deprecated and will be removed in v0.14.0. Assign the `y` variable to `hue` and set `legend=False` for the same effect.\n",
            "\n",
            "  sns.barplot(x=espacos_valor_total.values, y=espacos_valor_total.index, palette='flare')\n"
          ]
        },
        {
          "output_type": "display_data",
          "data": {
            "text/plain": [
              "<Figure size 1200x600 with 1 Axes>"
            ],
            "image/png": "[encoded data removed]"
          },
          "metadata": {}
        }
      ]
    },
    {
      "cell_type": "markdown",
      "source": [
        "### Análise do Valor Total de Locação por Tipo de Espaço\n",
        "\n",
        "A análise do valor total locado por tipo de espaço revela os formatos que mais geram receita ao longo do período analisado:\n",
        "\n",
        "- Ponta de Gôndola é, de longe, o espaço mais rentável, ultrapassando R\\$ 2.500.000 em valor total locado. Isso mostra sua alta demanda e valorização pelas marcas.\n",
        "- Em seguida, aparecem a Mesa de Valorização e o Adesivo de Parede, ambos com valores acima de R\\$ 1.000.000.\n",
        "- Outros espaços relevantes são: Vitrine, Mesa de Celular, Ilha de Produtos e Adesivos em Ilhas, todos com valor total próximo ou superior a R\\$ 800.000.\n",
        "- Os formatos da parte inferior da lista, como Painel de Coluna, Home Space e Adesivo de Pré-venda, apresentam baixo volume de receita total — o que pode indicar menor uso, menor visibilidade ou menor valor percebido.\n",
        "\n",
        "Essa análise ajuda a priorizar estratégias comerciais e operacionais, focando nos formatos com maior retorno financeiro.\n"
      ],
      "metadata": {
        "id": "HYZN4AtfrH72"
      }
    },
    {
      "cell_type": "markdown",
      "source": [
        "## 2.8 Valor Total de Locações por Segmento\n",
        "\n",
        "A análise a seguir mostra como os valores de locações se distribuem entre os segmentos de atuação, permitindo entender onde está concentrada a maior parte do faturamento com espaços publicitários.\n"
      ],
      "metadata": {
        "id": "4TZmhFJXrH6j"
      }
    },
    {
      "cell_type": "code",
      "source": [
        "# Valor total por segmento\n",
        "valor_total_segmento = df.groupby('Segmento')['ValorLocacao'].sum().sort_values(ascending=False)\n",
        "\n",
        "# Plot\n",
        "plt.figure(figsize=(8, 5))\n",
        "sns.barplot(x=valor_total_segmento.values, y=valor_total_segmento.index, palette='Set2')\n",
        "plt.title('Valor Total de Locações por Segmento')\n",
        "plt.xlabel('Valor Total Locado (R$)')\n",
        "plt.ylabel('Segmento')\n",
        "plt.show()\n"
      ],
      "metadata": {
        "colab": {
          "base_uri": "https://localhost:8080/",
          "height": 587
        },
        "id": "T-8OjCxgrYQC",
        "outputId": "f42623af-abcd-4bd8-ec7b-4f55e28dc763"
      },
      "execution_count": 12,
      "outputs": [
        {
          "output_type": "stream",
          "name": "stderr",
          "text": [
            "/tmp/ipython-input-12-2562492389.py:6: FutureWarning: \n",
            "\n",
            "Passing `palette` without assigning `hue` is deprecated and will be removed in v0.14.0. Assign the `y` variable to `hue` and set `legend=False` for the same effect.\n",
            "\n",
            "  sns.barplot(x=valor_total_segmento.values, y=valor_total_segmento.index, palette='Set2')\n"
          ]
        },
        {
          "output_type": "display_data",
          "data": {
            "text/plain": [
              "<Figure size 800x500 with 1 Axes>"
            ],
            "image/png": "[encoded data removed]"
          },
          "metadata": {}
        }
      ]
    },
    {
      "cell_type": "code",
      "source": [],
      "metadata": {
        "id": "Ad4EMa78rYOc"
      },
      "execution_count": null,
      "outputs": []
    },
    {
      "cell_type": "markdown",
      "source": [
        "## 2.9 Valor Total de Locações por Mês/Ano de Início\n",
        "\n",
        "Essa visualização permite identificar o comportamento das locações ao longo do tempo, mostrando sazonalidades, picos e possíveis períodos com baixa ou alta demanda por espaços nas lojas.\n"
      ],
      "metadata": {
        "id": "oJ0Uq0b1rrgb"
      }
    },
    {
      "cell_type": "markdown",
      "source": [],
      "metadata": {
        "id": "vXKsUUUQrrfE"
      }
    },
    {
      "cell_type": "code",
      "source": [
        "# Agrupar e somar os valores por data de início\n",
        "tabela_valores_por_data = (\n",
        "    df.groupby('PeriodoInicio')['ValorLocacao']\n",
        "    .sum()\n",
        "    .reset_index()\n",
        "    .sort_values(by='PeriodoInicio')\n",
        ")\n",
        "\n",
        "# Exibir com formatação: R$ com separador de milhar\n",
        "tabela_valores_por_data.style.format({'ValorLocacao': 'R$ {:,.2f}'})\n"
      ],
      "metadata": {
        "colab": {
          "base_uri": "https://localhost:8080/",
          "height": 519
        },
        "id": "RyzXH3QStFNW",
        "outputId": "4800a240-162d-4814-9edd-5a8e525fe5ba"
      },
      "execution_count": 20,
      "outputs": [
        {
          "output_type": "execute_result",
          "data": {
            "text/plain": [
              "<pandas.io.formats.style.Styler at 0x79e1400d85d0>"
            ],
            "text/html": [
              "<style type=\"text/css\">\n",
              "</style>\n",
              "<table id=\"T_e5682\" class=\"dataframe\">\n",
              "  <thead>\n",
              "    <tr>\n",
              "      <th class=\"blank level0\" >&nbsp;</th>\n",
              "      <th id=\"T_e5682_level0_col0\" class=\"col_heading level0 col0\" >PeriodoInicio</th>\n",
              "      <th id=\"T_e5682_level0_col1\" class=\"col_heading level0 col1\" >ValorLocacao</th>\n",
              "    </tr>\n",
              "  </thead>\n",
              "  <tbody>\n",
              "    <tr>\n",
              "      <th id=\"T_e5682_level0_row0\" class=\"row_heading level0 row0\" >0</th>\n",
              "      <td id=\"T_e5682_row0_col0\" class=\"data row0 col0\" >2024-01-11 00:00:00</td>\n",
              "      <td id=\"T_e5682_row0_col1\" class=\"data row0 col1\" >R$ 665,299.68</td>\n",
              "    </tr>\n",
              "    <tr>\n",
              "      <th id=\"T_e5682_level0_row1\" class=\"row_heading level0 row1\" >1</th>\n",
              "      <td id=\"T_e5682_row1_col0\" class=\"data row1 col0\" >2024-01-12 00:00:00</td>\n",
              "      <td id=\"T_e5682_row1_col1\" class=\"data row1 col1\" >R$ 724,367.41</td>\n",
              "    </tr>\n",
              "    <tr>\n",
              "      <th id=\"T_e5682_level0_row2\" class=\"row_heading level0 row2\" >2</th>\n",
              "      <td id=\"T_e5682_row2_col0\" class=\"data row2 col0\" >2024-11-11 00:00:00</td>\n",
              "      <td id=\"T_e5682_row2_col1\" class=\"data row2 col1\" >R$ 15,000.00</td>\n",
              "    </tr>\n",
              "    <tr>\n",
              "      <th id=\"T_e5682_level0_row3\" class=\"row_heading level0 row3\" >3</th>\n",
              "      <td id=\"T_e5682_row3_col0\" class=\"data row3 col0\" >2025-01-01 00:00:00</td>\n",
              "      <td id=\"T_e5682_row3_col1\" class=\"data row3 col1\" >R$ 1,021,927.85</td>\n",
              "    </tr>\n",
              "    <tr>\n",
              "      <th id=\"T_e5682_level0_row4\" class=\"row_heading level0 row4\" >4</th>\n",
              "      <td id=\"T_e5682_row4_col0\" class=\"data row4 col0\" >2025-01-02 00:00:00</td>\n",
              "      <td id=\"T_e5682_row4_col1\" class=\"data row4 col1\" >R$ 834,187.09</td>\n",
              "    </tr>\n",
              "    <tr>\n",
              "      <th id=\"T_e5682_level0_row5\" class=\"row_heading level0 row5\" >5</th>\n",
              "      <td id=\"T_e5682_row5_col0\" class=\"data row5 col0\" >2025-01-03 00:00:00</td>\n",
              "      <td id=\"T_e5682_row5_col1\" class=\"data row5 col1\" >R$ 1,035,516.25</td>\n",
              "    </tr>\n",
              "    <tr>\n",
              "      <th id=\"T_e5682_level0_row6\" class=\"row_heading level0 row6\" >6</th>\n",
              "      <td id=\"T_e5682_row6_col0\" class=\"data row6 col0\" >2025-01-04 00:00:00</td>\n",
              "      <td id=\"T_e5682_row6_col1\" class=\"data row6 col1\" >R$ 1,381,648.83</td>\n",
              "    </tr>\n",
              "    <tr>\n",
              "      <th id=\"T_e5682_level0_row7\" class=\"row_heading level0 row7\" >7</th>\n",
              "      <td id=\"T_e5682_row7_col0\" class=\"data row7 col0\" >2025-01-05 00:00:00</td>\n",
              "      <td id=\"T_e5682_row7_col1\" class=\"data row7 col1\" >R$ 1,410,533.92</td>\n",
              "    </tr>\n",
              "    <tr>\n",
              "      <th id=\"T_e5682_level0_row8\" class=\"row_heading level0 row8\" >8</th>\n",
              "      <td id=\"T_e5682_row8_col0\" class=\"data row8 col0\" >2025-01-06 00:00:00</td>\n",
              "      <td id=\"T_e5682_row8_col1\" class=\"data row8 col1\" >R$ 1,515,026.85</td>\n",
              "    </tr>\n",
              "    <tr>\n",
              "      <th id=\"T_e5682_level0_row9\" class=\"row_heading level0 row9\" >9</th>\n",
              "      <td id=\"T_e5682_row9_col0\" class=\"data row9 col0\" >2025-01-07 00:00:00</td>\n",
              "      <td id=\"T_e5682_row9_col1\" class=\"data row9 col1\" >R$ 816,668.08</td>\n",
              "    </tr>\n",
              "    <tr>\n",
              "      <th id=\"T_e5682_level0_row10\" class=\"row_heading level0 row10\" >10</th>\n",
              "      <td id=\"T_e5682_row10_col0\" class=\"data row10 col0\" >2025-01-08 00:00:00</td>\n",
              "      <td id=\"T_e5682_row10_col1\" class=\"data row10 col1\" >R$ 651,326.14</td>\n",
              "    </tr>\n",
              "    <tr>\n",
              "      <th id=\"T_e5682_level0_row11\" class=\"row_heading level0 row11\" >11</th>\n",
              "      <td id=\"T_e5682_row11_col0\" class=\"data row11 col0\" >2025-01-09 00:00:00</td>\n",
              "      <td id=\"T_e5682_row11_col1\" class=\"data row11 col1\" >R$ 643,660.47</td>\n",
              "    </tr>\n",
              "    <tr>\n",
              "      <th id=\"T_e5682_level0_row12\" class=\"row_heading level0 row12\" >12</th>\n",
              "      <td id=\"T_e5682_row12_col0\" class=\"data row12 col0\" >2025-01-10 00:00:00</td>\n",
              "      <td id=\"T_e5682_row12_col1\" class=\"data row12 col1\" >R$ 643,660.47</td>\n",
              "    </tr>\n",
              "    <tr>\n",
              "      <th id=\"T_e5682_level0_row13\" class=\"row_heading level0 row13\" >13</th>\n",
              "      <td id=\"T_e5682_row13_col0\" class=\"data row13 col0\" >2025-01-11 00:00:00</td>\n",
              "      <td id=\"T_e5682_row13_col1\" class=\"data row13 col1\" >R$ 716,707.49</td>\n",
              "    </tr>\n",
              "    <tr>\n",
              "      <th id=\"T_e5682_level0_row14\" class=\"row_heading level0 row14\" >14</th>\n",
              "      <td id=\"T_e5682_row14_col0\" class=\"data row14 col0\" >2025-01-12 00:00:00</td>\n",
              "      <td id=\"T_e5682_row14_col1\" class=\"data row14 col1\" >R$ 643,328.14</td>\n",
              "    </tr>\n",
              "  </tbody>\n",
              "</table>\n"
            ]
          },
          "metadata": {},
          "execution_count": 20
        }
      ]
    },
    {
      "cell_type": "markdown",
      "source": [
        "## 3. Pré-processamento dos Dados\n",
        "\n",
        "Após a análise exploratória, esta etapa tem como objetivo preparar os dados para análises mais robustas ou futuros modelos. As principais ações incluem tratamento de valores ausentes, conversão de tipos, criação de variáveis derivadas e padronização de dados.\n"
      ],
      "metadata": {
        "id": "YU5kbzCBtvcf"
      }
    },
    {
      "cell_type": "markdown",
      "source": [
        "### 3.1 Diagnóstico de Valores Ausentes\n",
        "\n",
        "Neste passo, verificamos a quantidade e o percentual de valores ausentes em cada coluna. Essa análise é essencial para definir estratégias de limpeza, como remoção de colunas com muitos nulos, preenchimento com valores padrão ou manutenção justificada.\n"
      ],
      "metadata": {
        "id": "X7D_rHAitVjR"
      }
    },
    {
      "cell_type": "code",
      "source": [
        "# Ver quantidade e percentual de valores nulos por coluna\n",
        "faltantes = df.isnull().sum().to_frame(name='Qtd_Nulos')\n",
        "faltantes['%_Nulos'] = (faltantes['Qtd_Nulos'] / len(df) * 100).round(2)\n",
        "faltantes = faltantes.sort_values(by='Qtd_Nulos', ascending=False)\n",
        "faltantes\n"
      ],
      "metadata": {
        "colab": {
          "base_uri": "https://localhost:8080/",
          "height": 613
        },
        "id": "rCd57RhltmVY",
        "outputId": "f7f3af9d-86be-410d-ad2a-fb1742e1b56b"
      },
      "execution_count": 21,
      "outputs": [
        {
          "output_type": "execute_result",
          "data": {
            "text/plain": [
              "                 Qtd_Nulos  %_Nulos\n",
              "ItensExpostos         5861    82.57\n",
              "QtdExposto            5799    81.70\n",
              "Setor                 3849    54.23\n",
              "Descricao             3227    45.46\n",
              "AprovacaoFoto         3137    44.20\n",
              "AnaliseIA             3137    44.20\n",
              "ValorLocacao          1087    15.31\n",
              "Fornecedor             942    13.27\n",
              "Marca                  568     8.00\n",
              "TipoComprovacao          5     0.07\n",
              "IdLocacao                5     0.07\n",
              "Segmento                 0     0.00\n",
              "Espaco                   0     0.00\n",
              "Loja                     0     0.00\n",
              "PeriodoInicio            0     0.00\n",
              "PeriodoFim               0     0.00\n",
              "Modificado               0     0.00\n",
              "AnoMesInicio             0     0.00"
            ],
            "text/html": [
              "\n",
              "  <div id=\"df-beaafebf-e630-4ebe-b5db-a94a48bf554b\" class=\"colab-df-container\">\n",
              "    <div>\n",
              "<style scoped>\n",
              "    .dataframe tbody tr th:only-of-type {\n",
              "        vertical-align: middle;\n",
              "    }\n",
              "\n",
              "    .dataframe tbody tr th {\n",
              "        vertical-align: top;\n",
              "    }\n",
              "\n",
              "    .dataframe thead th {\n",
              "        text-align: right;\n",
              "    }\n",
              "</style>\n",
              "<table border=\"1\" class=\"dataframe\">\n",
              "  <thead>\n",
              "    <tr style=\"text-align: right;\">\n",
              "      <th></th>\n",
              "      <th>Qtd_Nulos</th>\n",
              "      <th>%_Nulos</th>\n",
              "    </tr>\n",
              "  </thead>\n",
              "  <tbody>\n",
              "    <tr>\n",
              "      <th>ItensExpostos</th>\n",
              "      <td>5861</td>\n",
              "      <td>82.57</td>\n",
              "    </tr>\n",
              "    <tr>\n",
              "      <th>QtdExposto</th>\n",
              "      <td>5799</td>\n",
              "      <td>81.70</td>\n",
              "    </tr>\n",
              "    <tr>\n",
              "      <th>Setor</th>\n",
              "      <td>3849</td>\n",
              "      <td>54.23</td>\n",
              "    </tr>\n",
              "    <tr>\n",
              "      <th>Descricao</th>\n",
              "      <td>3227</td>\n",
              "      <td>45.46</td>\n",
              "    </tr>\n",
              "    <tr>\n",
              "      <th>AprovacaoFoto</th>\n",
              "      <td>3137</td>\n",
              "      <td>44.20</td>\n",
              "    </tr>\n",
              "    <tr>\n",
              "      <th>AnaliseIA</th>\n",
              "      <td>3137</td>\n",
              "      <td>44.20</td>\n",
              "    </tr>\n",
              "    <tr>\n",
              "      <th>ValorLocacao</th>\n",
              "      <td>1087</td>\n",
              "      <td>15.31</td>\n",
              "    </tr>\n",
              "    <tr>\n",
              "      <th>Fornecedor</th>\n",
              "      <td>942</td>\n",
              "      <td>13.27</td>\n",
              "    </tr>\n",
              "    <tr>\n",
              "      <th>Marca</th>\n",
              "      <td>568</td>\n",
              "      <td>8.00</td>\n",
              "    </tr>\n",
              "    <tr>\n",
              "      <th>TipoComprovacao</th>\n",
              "      <td>5</td>\n",
              "      <td>0.07</td>\n",
              "    </tr>\n",
              "    <tr>\n",
              "      <th>IdLocacao</th>\n",
              "      <td>5</td>\n",
              "      <td>0.07</td>\n",
              "    </tr>\n",
              "    <tr>\n",
              "      <th>Segmento</th>\n",
              "      <td>0</td>\n",
              "      <td>0.00</td>\n",
              "    </tr>\n",
              "    <tr>\n",
              "      <th>Espaco</th>\n",
              "      <td>0</td>\n",
              "      <td>0.00</td>\n",
              "    </tr>\n",
              "    <tr>\n",
              "      <th>Loja</th>\n",
              "      <td>0</td>\n",
              "      <td>0.00</td>\n",
              "    </tr>\n",
              "    <tr>\n",
              "      <th>PeriodoInicio</th>\n",
              "      <td>0</td>\n",
              "      <td>0.00</td>\n",
              "    </tr>\n",
              "    <tr>\n",
              "      <th>PeriodoFim</th>\n",
              "      <td>0</td>\n",
              "      <td>0.00</td>\n",
              "    </tr>\n",
              "    <tr>\n",
              "      <th>Modificado</th>\n",
              "      <td>0</td>\n",
              "      <td>0.00</td>\n",
              "    </tr>\n",
              "    <tr>\n",
              "      <th>AnoMesInicio</th>\n",
              "      <td>0</td>\n",
              "      <td>0.00</td>\n",
              "    </tr>\n",
              "  </tbody>\n",
              "</table>\n",
              "</div>\n",
              "    <div class=\"colab-df-buttons\">\n",
              "\n",
              "  <div class=\"colab-df-container\">\n",
              "    <button class=\"colab-df-convert\" onclick=\"convertToInteractive('df-beaafebf-e630-4ebe-b5db-a94a48bf554b')\"\n",
              "            title=\"Convert this dataframe to an interactive table.\"\n",
              "            style=\"display:none;\">\n",
              "\n",
              "  <svg xmlns=\"http://www.w3.org/2000/svg\" height=\"24px\" viewBox=\"0 -960 960 960\">\n",
              "    <path d=\"M120-120v-720h720v720H120Zm60-500h600v-160H180v160Zm220 220h160v-160H400v160Zm0 220h160v-160H400v160ZM180-400h160v-160H180v160Zm440 0h160v-160H620v160ZM180-180h160v-160H180v160Zm440 0h160v-160H620v160Z\"/>\n",
              "  </svg>\n",
              "    </button>\n",
              "\n",
              "  <style>\n",
              "    .colab-df-container {\n",
              "      display:flex;\n",
              "      gap: 12px;\n",
              "    }\n",
              "\n",
              "    .colab-df-convert {\n",
              "      background-color: #E8F0FE;\n",
              "      border: none;\n",
              "      border-radius: 50%;\n",
              "      cursor: pointer;\n",
              "      display: none;\n",
              "      fill: #1967D2;\n",
              "      height: 32px;\n",
              "      padding: 0 0 0 0;\n",
              "      width: 32px;\n",
              "    }\n",
              "\n",
              "    .colab-df-convert:hover {\n",
              "      background-color: #E2EBFA;\n",
              "      box-shadow: 0px 1px 2px rgba(60, 64, 67, 0.3), 0px 1px 3px 1px rgba(60, 64, 67, 0.15);\n",
              "      fill: #174EA6;\n",
              "    }\n",
              "\n",
              "    .colab-df-buttons div {\n",
              "      margin-bottom: 4px;\n",
              "    }\n",
              "\n",
              "    [theme=dark] .colab-df-convert {\n",
              "      background-color: #3B4455;\n",
              "      fill: #D2E3FC;\n",
              "    }\n",
              "\n",
              "    [theme=dark] .colab-df-convert:hover {\n",
              "      background-color: #434B5C;\n",
              "      box-shadow: 0px 1px 3px 1px rgba(0, 0, 0, 0.15);\n",
              "      filter: drop-shadow(0px 1px 2px rgba(0, 0, 0, 0.3));\n",
              "      fill: #FFFFFF;\n",
              "    }\n",
              "  </style>\n",
              "\n",
              "    <script>\n",
              "      const buttonEl =\n",
              "        document.querySelector('#df-beaafebf-e630-4ebe-b5db-a94a48bf554b button.colab-df-convert');\n",
              "      buttonEl.style.display =\n",
              "        google.colab.kernel.accessAllowed ? 'block' : 'none';\n",
              "\n",
              "      async function convertToInteractive(key) {\n",
              "        const element = document.querySelector('#df-beaafebf-e630-4ebe-b5db-a94a48bf554b');\n",
              "        const dataTable =\n",
              "          await google.colab.kernel.invokeFunction('convertToInteractive',\n",
              "                                                    [key], {});\n",
              "        if (!dataTable) return;\n",
              "\n",
              "        const docLinkHtml = 'Like what you see? Visit the ' +\n",
              "          '<a target=\"_blank\" href=https://colab.research.google.com/notebooks/data_table.ipynb>data table notebook</a>'\n",
              "          + ' to learn more about interactive tables.';\n",
              "        element.innerHTML = '';\n",
              "        dataTable['output_type'] = 'display_data';\n",
              "        await google.colab.output.renderOutput(dataTable, element);\n",
              "        const docLink = document.createElement('div');\n",
              "        docLink.innerHTML = docLinkHtml;\n",
              "        element.appendChild(docLink);\n",
              "      }\n",
              "    </script>\n",
              "  </div>\n",
              "\n",
              "\n",
              "    <div id=\"df-37ae0ee4-f9ab-4882-ae5b-331a4b34604e\">\n",
              "      <button class=\"colab-df-quickchart\" onclick=\"quickchart('df-37ae0ee4-f9ab-4882-ae5b-331a4b34604e')\"\n",
              "                title=\"Suggest charts\"\n",
              "                style=\"display:none;\">\n",
              "\n",
              "<svg xmlns=\"http://www.w3.org/2000/svg\" height=\"24px\"viewBox=\"0 0 24 24\"\n",
              "     width=\"24px\">\n",
              "    <g>\n",
              "        <path d=\"M19 3H5c-1.1 0-2 .9-2 2v14c0 1.1.9 2 2 2h14c1.1 0 2-.9 2-2V5c0-1.1-.9-2-2-2zM9 17H7v-7h2v7zm4 0h-2V7h2v10zm4 0h-2v-4h2v4z\"/>\n",
              "    </g>\n",
              "</svg>\n",
              "      </button>\n",
              "\n",
              "<style>\n",
              "  .colab-df-quickchart {\n",
              "      --bg-color: #E8F0FE;\n",
              "      --fill-color: #1967D2;\n",
              "      --hover-bg-color: #E2EBFA;\n",
              "      --hover-fill-color: #174EA6;\n",
              "      --disabled-fill-color: #AAA;\n",
              "      --disabled-bg-color: #DDD;\n",
              "  }\n",
              "\n",
              "  [theme=dark] .colab-df-quickchart {\n",
              "      --bg-color: #3B4455;\n",
              "      --fill-color: #D2E3FC;\n",
              "      --hover-bg-color: #434B5C;\n",
              "      --hover-fill-color: #FFFFFF;\n",
              "      --disabled-bg-color: #3B4455;\n",
              "      --disabled-fill-color: #666;\n",
              "  }\n",
              "\n",
              "  .colab-df-quickchart {\n",
              "    background-color: var(--bg-color);\n",
              "    border: none;\n",
              "    border-radius: 50%;\n",
              "    cursor: pointer;\n",
              "    display: none;\n",
              "    fill: var(--fill-color);\n",
              "    height: 32px;\n",
              "    padding: 0;\n",
              "    width: 32px;\n",
              "  }\n",
              "\n",
              "  .colab-df-quickchart:hover {\n",
              "    background-color: var(--hover-bg-color);\n",
              "    box-shadow: 0 1px 2px rgba(60, 64, 67, 0.3), 0 1px 3px 1px rgba(60, 64, 67, 0.15);\n",
              "    fill: var(--button-hover-fill-color);\n",
              "  }\n",
              "\n",
              "  .colab-df-quickchart-complete:disabled,\n",
              "  .colab-df-quickchart-complete:disabled:hover {\n",
              "    background-color: var(--disabled-bg-color);\n",
              "    fill: var(--disabled-fill-color);\n",
              "    box-shadow: none;\n",
              "  }\n",
              "\n",
              "  .colab-df-spinner {\n",
              "    border: 2px solid var(--fill-color);\n",
              "    border-color: transparent;\n",
              "    border-bottom-color: var(--fill-color);\n",
              "    animation:\n",
              "      spin 1s steps(1) infinite;\n",
              "  }\n",
              "\n",
              "  @keyframes spin {\n",
              "    0% {\n",
              "      border-color: transparent;\n",
              "      border-bottom-color: var(--fill-color);\n",
              "      border-left-color: var(--fill-color);\n",
              "    }\n",
              "    20% {\n",
              "      border-color: transparent;\n",
              "      border-left-color: var(--fill-color);\n",
              "      border-top-color: var(--fill-color);\n",
              "    }\n",
              "    30% {\n",
              "      border-color: transparent;\n",
              "      border-left-color: var(--fill-color);\n",
              "      border-top-color: var(--fill-color);\n",
              "      border-right-color: var(--fill-color);\n",
              "    }\n",
              "    40% {\n",
              "      border-color: transparent;\n",
              "      border-right-color: var(--fill-color);\n",
              "      border-top-color: var(--fill-color);\n",
              "    }\n",
              "    60% {\n",
              "      border-color: transparent;\n",
              "      border-right-color: var(--fill-color);\n",
              "    }\n",
              "    80% {\n",
              "      border-color: transparent;\n",
              "      border-right-color: var(--fill-color);\n",
              "      border-bottom-color: var(--fill-color);\n",
              "    }\n",
              "    90% {\n",
              "      border-color: transparent;\n",
              "      border-bottom-color: var(--fill-color);\n",
              "    }\n",
              "  }\n",
              "</style>\n",
              "\n",
              "      <script>\n",
              "        async function quickchart(key) {\n",
              "          const quickchartButtonEl =\n",
              "            document.querySelector('#' + key + ' button');\n",
              "          quickchartButtonEl.disabled = true;  // To prevent multiple clicks.\n",
              "          quickchartButtonEl.classList.add('colab-df-spinner');\n",
              "          try {\n",
              "            const charts = await google.colab.kernel.invokeFunction(\n",
              "                'suggestCharts', [key], {});\n",
              "          } catch (error) {\n",
              "            console.error('Error during call to suggestCharts:', error);\n",
              "          }\n",
              "          quickchartButtonEl.classList.remove('colab-df-spinner');\n",
              "          quickchartButtonEl.classList.add('colab-df-quickchart-complete');\n",
              "        }\n",
              "        (() => {\n",
              "          let quickchartButtonEl =\n",
              "            document.querySelector('#df-37ae0ee4-f9ab-4882-ae5b-331a4b34604e button');\n",
              "          quickchartButtonEl.style.display =\n",
              "            google.colab.kernel.accessAllowed ? 'block' : 'none';\n",
              "        })();\n",
              "      </script>\n",
              "    </div>\n",
              "\n",
              "  <div id=\"id_b3fe5ed4-ca32-4f53-92fa-e92628bf4705\">\n",
              "    <style>\n",
              "      .colab-df-generate {\n",
              "        background-color: #E8F0FE;\n",
              "        border: none;\n",
              "        border-radius: 50%;\n",
              "        cursor: pointer;\n",
              "        display: none;\n",
              "        fill: #1967D2;\n",
              "        height: 32px;\n",
              "        padding: 0 0 0 0;\n",
              "        width: 32px;\n",
              "      }\n",
              "\n",
              "      .colab-df-generate:hover {\n",
              "        background-color: #E2EBFA;\n",
              "        box-shadow: 0px 1px 2px rgba(60, 64, 67, 0.3), 0px 1px 3px 1px rgba(60, 64, 67, 0.15);\n",
              "        fill: #174EA6;\n",
              "      }\n",
              "\n",
              "      [theme=dark] .colab-df-generate {\n",
              "        background-color: #3B4455;\n",
              "        fill: #D2E3FC;\n",
              "      }\n",
              "\n",
              "      [theme=dark] .colab-df-generate:hover {\n",
              "        background-color: #434B5C;\n",
              "        box-shadow: 0px 1px 3px 1px rgba(0, 0, 0, 0.15);\n",
              "        filter: drop-shadow(0px 1px 2px rgba(0, 0, 0, 0.3));\n",
              "        fill: #FFFFFF;\n",
              "      }\n",
              "    </style>\n",
              "    <button class=\"colab-df-generate\" onclick=\"generateWithVariable('faltantes')\"\n",
              "            title=\"Generate code using this dataframe.\"\n",
              "            style=\"display:none;\">\n",
              "\n",
              "  <svg xmlns=\"http://www.w3.org/2000/svg\" height=\"24px\"viewBox=\"0 0 24 24\"\n",
              "       width=\"24px\">\n",
              "    <path d=\"M7,19H8.4L18.45,9,17,7.55,7,17.6ZM5,21V16.75L18.45,3.32a2,2,0,0,1,2.83,0l1.4,1.43a1.91,1.91,0,0,1,.58,1.4,1.91,1.91,0,0,1-.58,1.4L9.25,21ZM18.45,9,17,7.55Zm-12,3A5.31,5.31,0,0,0,4.9,8.1,5.31,5.31,0,0,0,1,6.5,5.31,5.31,0,0,0,4.9,4.9,5.31,5.31,0,0,0,6.5,1,5.31,5.31,0,0,0,8.1,4.9,5.31,5.31,0,0,0,12,6.5,5.46,5.46,0,0,0,6.5,12Z\"/>\n",
              "  </svg>\n",
              "    </button>\n",
              "    <script>\n",
              "      (() => {\n",
              "      const buttonEl =\n",
              "        document.querySelector('#id_b3fe5ed4-ca32-4f53-92fa-e92628bf4705 button.colab-df-generate');\n",
              "      buttonEl.style.display =\n",
              "        google.colab.kernel.accessAllowed ? 'block' : 'none';\n",
              "\n",
              "      buttonEl.onclick = () => {\n",
              "        google.colab.notebook.generateWithVariable('faltantes');\n",
              "      }\n",
              "      })();\n",
              "    </script>\n",
              "  </div>\n",
              "\n",
              "    </div>\n",
              "  </div>\n"
            ],
            "application/vnd.google.colaboratory.intrinsic+json": {
              "type": "dataframe",
              "variable_name": "faltantes",
              "summary": "{\n  \"name\": \"faltantes\",\n  \"rows\": 18,\n  \"fields\": [\n    {\n      \"column\": \"Qtd_Nulos\",\n      \"properties\": {\n        \"dtype\": \"number\",\n        \"std\": 2070,\n        \"min\": 0,\n        \"max\": 5861,\n        \"num_unique_values\": 10,\n        \"samples\": [\n          5,\n          5799,\n          1087\n        ],\n        \"semantic_type\": \"\",\n        \"description\": \"\"\n      }\n    },\n    {\n      \"column\": \"%_Nulos\",\n      \"properties\": {\n        \"dtype\": \"number\",\n        \"std\": 29.176741184439894,\n        \"min\": 0.0,\n        \"max\": 82.57,\n        \"num_unique_values\": 10,\n        \"samples\": [\n          0.07,\n          81.7,\n          15.31\n        ],\n        \"semantic_type\": \"\",\n        \"description\": \"\"\n      }\n    }\n  ]\n}"
            }
          },
          "metadata": {},
          "execution_count": 21
        }
      ]
    },
    {
      "cell_type": "markdown",
      "source": [
        "### 3.2 Análise e Estratégia para Valores Ausentes\n",
        "\n",
        "Com base na análise de valores faltantes e nas definições do negócio, o plano de tratamento é o seguinte:\n",
        "\n",
        "- `ItensExpostos` (82,57%) e `QtdExposto` (81,70%): colunas com ausência extrema. São úteis apenas para análises específicas de visibilidade, mas serão mantidos neste MPV.\n",
        "\n",
        "- `Setor` (54,23%): manteremos a coluna e preencheremos os valores ausentes com \"Setor não informado\", já que pode ser relevante em análises segmentadas.\n",
        "\n",
        "- `Descricao`, `AnaliseIA` e `AprovacaoFoto` (entre 44% e 45%): campos textuais que servem como apoio descritivo. Os nulos serão preenchidos com \"Não informado\".\n",
        "\n",
        "- `ValorLocacao` (15,31%): valores nulos nessa coluna inviabilizam a análise financeira. Esses registros serão removidos do dataset.\n",
        "\n",
        "- **Campos críticos do ponto de vista do negócio:**\n",
        "  - `Marca` (8,00%)\n",
        "  - `Fornecedor` (13,27%)\n",
        "  - `TipoComprovacao` (0,07%)\n",
        "  - `IdLocacao` (0,07%)\n",
        "\n",
        "  Como são essenciais para rastreabilidade, validação e agrupamentos analíticos, **registros com nulos nessas colunas serão excluídos**.\n",
        "\n",
        "As demais colunas não apresentam valores ausentes e estão aptas para uso direto.\n"
      ],
      "metadata": {
        "id": "arX6oCewuOQP"
      }
    },
    {
      "cell_type": "code",
      "source": [
        "# 1. Remover registros com valores nulos em colunas críticas\n",
        "colunas_criticas = ['Marca', 'Fornecedor', 'TipoComprovacao', 'IdLocacao', 'ValorLocacao']\n",
        "df = df.dropna(subset=colunas_criticas).copy()  # <- .copy() evita o warning!\n",
        "\n",
        "# 2. Preencher campos textuais com \"Não informado\"\n",
        "df.loc[:, 'Descricao'] = df['Descricao'].fillna('Não informado')\n",
        "df.loc[:, 'AnaliseIA'] = df['AnaliseIA'].fillna('Não informado')\n",
        "df.loc[:, 'AprovacaoFoto'] = df['AprovacaoFoto'].fillna('Não informado')\n",
        "\n",
        "# 3. Preencher setor com valor padrão\n",
        "df.loc[:, 'Setor'] = df['Setor'].fillna('Setor não informado')\n"
      ],
      "metadata": {
        "id": "AIuf6Whru12e"
      },
      "execution_count": 23,
      "outputs": []
    },
    {
      "cell_type": "code",
      "source": [
        "# Confirmar que colunas críticas não possuem mais nulos\n",
        "df[['Marca', 'Fornecedor', 'TipoComprovacao', 'IdLocacao', 'ValorLocacao']].isnull().sum()\n"
      ],
      "metadata": {
        "colab": {
          "base_uri": "https://localhost:8080/",
          "height": 241
        },
        "id": "E8MxfSOQvHp3",
        "outputId": "ca644601-3837-4d7a-f2fe-fcaadaa3ea16"
      },
      "execution_count": 26,
      "outputs": [
        {
          "output_type": "execute_result",
          "data": {
            "text/plain": [
              "Marca              0\n",
              "Fornecedor         0\n",
              "TipoComprovacao    0\n",
              "IdLocacao          0\n",
              "ValorLocacao       0\n",
              "dtype: int64"
            ],
            "text/html": [
              "<div>\n",
              "<style scoped>\n",
              "    .dataframe tbody tr th:only-of-type {\n",
              "        vertical-align: middle;\n",
              "    }\n",
              "\n",
              "    .dataframe tbody tr th {\n",
              "        vertical-align: top;\n",
              "    }\n",
              "\n",
              "    .dataframe thead th {\n",
              "        text-align: right;\n",
              "    }\n",
              "</style>\n",
              "<table border=\"1\" class=\"dataframe\">\n",
              "  <thead>\n",
              "    <tr style=\"text-align: right;\">\n",
              "      <th></th>\n",
              "      <th>0</th>\n",
              "    </tr>\n",
              "  </thead>\n",
              "  <tbody>\n",
              "    <tr>\n",
              "      <th>Marca</th>\n",
              "      <td>0</td>\n",
              "    </tr>\n",
              "    <tr>\n",
              "      <th>Fornecedor</th>\n",
              "      <td>0</td>\n",
              "    </tr>\n",
              "    <tr>\n",
              "      <th>TipoComprovacao</th>\n",
              "      <td>0</td>\n",
              "    </tr>\n",
              "    <tr>\n",
              "      <th>IdLocacao</th>\n",
              "      <td>0</td>\n",
              "    </tr>\n",
              "    <tr>\n",
              "      <th>ValorLocacao</th>\n",
              "      <td>0</td>\n",
              "    </tr>\n",
              "  </tbody>\n",
              "</table>\n",
              "</div><br><label><b>dtype:</b> int64</label>"
            ]
          },
          "metadata": {},
          "execution_count": 26
        }
      ]
    },
    {
      "cell_type": "code",
      "source": [],
      "metadata": {
        "id": "jkajGdglvTyY"
      },
      "execution_count": null,
      "outputs": []
    },
    {
      "cell_type": "markdown",
      "source": [
        "### 3.4 Filtro por Segmento e Período\n",
        "\n",
        "Com base em critérios de negócio, foram aplicados dois filtros à base:\n",
        "\n",
        "- **Segmento 'Farma' removido**, pois não será analisado neste projeto.\n",
        "- **Registros com `PeriodoInicio` anteriores a 2025 foram excluídos**, garantindo foco na operação atual e dados recentes para tomada de decisão.\n",
        "\n",
        "Esses ajustes mantêm a base mais enxuta, consistente e alinhada aos objetivos do MVP.\n"
      ],
      "metadata": {
        "id": "pLpocCizvt48"
      }
    },
    {
      "cell_type": "code",
      "source": [
        "# 1. Filtrar para manter apenas registros diferentes de 'Farma'\n",
        "df = df[df['Segmento'] != 'Farma']\n",
        "\n",
        "# 2. Filtrar datas a partir de 2025-01-01\n",
        "df = df[df['PeriodoInicio'] >= pd.to_datetime('2025-01-01')]\n"
      ],
      "metadata": {
        "id": "RpYx72jhvxBG"
      },
      "execution_count": 27,
      "outputs": []
    },
    {
      "cell_type": "markdown",
      "source": [],
      "metadata": {
        "id": "9g-ahOLfs2rn"
      }
    },
    {
      "cell_type": "code",
      "source": [
        "# Verificar a menor data restante\n",
        "df['PeriodoInicio'].min()\n"
      ],
      "metadata": {
        "colab": {
          "base_uri": "https://localhost:8080/"
        },
        "id": "4J03aO1Nv0x0",
        "outputId": "6a4c5781-6dad-4316-c7f2-be3a843b2dc3"
      },
      "execution_count": 29,
      "outputs": [
        {
          "output_type": "execute_result",
          "data": {
            "text/plain": [
              "Timestamp('2025-01-01 00:00:00')"
            ]
          },
          "metadata": {},
          "execution_count": 29
        }
      ]
    },
    {
      "cell_type": "code",
      "source": [
        "# Verificar os segmentos restantes\n",
        "df['Segmento'].unique()"
      ],
      "metadata": {
        "colab": {
          "base_uri": "https://localhost:8080/"
        },
        "id": "OpqwDDRfv4lD",
        "outputId": "73f75954-8aeb-43ff-d5e6-88473ef34617"
      },
      "execution_count": 30,
      "outputs": [
        {
          "output_type": "execute_result",
          "data": {
            "text/plain": [
              "array(['Varejo'], dtype=object)"
            ]
          },
          "metadata": {},
          "execution_count": 30
        }
      ]
    },
    {
      "cell_type": "markdown",
      "source": [
        "### 3.5 Considerações sobre Normalização\n",
        "\n",
        "A normalização de variáveis é uma etapa importante em projetos que envolvem modelos de aprendizado de máquina ou algoritmos sensíveis à escala, como clustering, PCA ou regressões.\n",
        "\n",
        "Entretanto, como este projeto tem foco em análise exploratória e descritiva, e as variáveis possuem significado real (ex: valores monetários em reais), a normalização **não será aplicada neste momento** para preservar a interpretabilidade dos dados.\n"
      ],
      "metadata": {
        "id": "2deAyRtfwHtM"
      }
    },
    {
      "cell_type": "markdown",
      "source": [
        "## 4. Considerações Finais\n",
        "\n",
        "A análise exploratória e o pré-processamento realizados sobre os dados de locações publicitárias nas lojas da Bemol permitiram entender de forma clara o comportamento desse tipo de operação no segmento de varejo.\n",
        "\n",
        "Foram identificados os espaços que mais geram receita total, com destaque para as Pontas de Gôndola e Mesas de Valorização. Também foi possível verificar que lojas como Cidade Nova, Grande Circular e Amazonas Shopping concentram os maiores valores médios de locação.\n",
        "\n",
        "Outro ponto relevante foi a constatação de que a maior parte das locações ocorre dentro de períodos curtos e com valores bastante concentrados abaixo da média, o que exige atenção para distorções causadas por outliers.\n",
        "\n",
        "Com base nas premissas de negócio, a base foi filtrada para manter apenas registros do segmento Varejo, a partir de 2025, e colunas críticas foram tratadas para garantir consistência. Dados ausentes foram removidos ou preenchidos conforme seu papel na análise.\n",
        "\n",
        "Esse estudo deixa a base pronta para etapas futuras, como desenvolvimento de indicadores de performance por espaço, otimização de preços ou até mesmo uso de modelos preditivos para estimar retorno esperado de uma locação.\n",
        "\n",
        "O MVP cumpre seu papel ao demonstrar domínio sobre o processo de análise e preparação de dados, além de entregar insumos concretos para decisões estratégicas da área de Trade Marketing.\n"
      ],
      "metadata": {
        "id": "iIssyvc5woD2"
      }
    },
    {
      "cell_type": "markdown",
      "source": [],
      "metadata": {
        "id": "LtK6vvO7woCB"
      }
    },
    {
      "cell_type": "code",
      "source": [],
      "metadata": {
        "id": "vsyvZDl7wn2d"
      },
      "execution_count": null,
      "outputs": []
    },
    {
      "cell_type": "code",
      "source": [],
      "metadata": {
        "id": "4USsa1jWwn00"
      },
      "execution_count": null,
      "outputs": []
    }
  ]
}